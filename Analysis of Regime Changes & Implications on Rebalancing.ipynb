{
 "cells": [
  {
   "cell_type": "code",
   "execution_count": null,
   "metadata": {},
   "outputs": [],
   "source": [
    "#1933 - Changing Shape of Yield Curve\n",
    "#1987 - Pricing of Out-of-the-Money Put Options\n",
    "#Gold standard, reserve currency status?\n",
    "\n",
    "#You rebalance on assets/classes/factors that are unlikely to undergo permanent regime change"
   ]
  }
 ],
 "metadata": {
  "kernelspec": {
   "display_name": "Python 3",
   "language": "python",
   "name": "python3"
  },
  "language_info": {
   "codemirror_mode": {
    "name": "ipython",
    "version": 3
   },
   "file_extension": ".py",
   "mimetype": "text/x-python",
   "name": "python",
   "nbconvert_exporter": "python",
   "pygments_lexer": "ipython3",
   "version": "3.7.3"
  }
 },
 "nbformat": 4,
 "nbformat_minor": 2
}

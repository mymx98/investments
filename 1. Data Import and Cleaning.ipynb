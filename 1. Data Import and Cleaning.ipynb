{
 "cells": [
  {
   "cell_type": "code",
   "execution_count": 1,
   "metadata": {},
   "outputs": [
    {
     "name": "stderr",
     "output_type": "stream",
     "text": [
      "C:\\Users\\maxru\\Anaconda3\\lib\\site-packages\\pyfolio\\pos.py:27: UserWarning: Module \"zipline.assets\" not found; mutltipliers will not be applied to position notionals.\n",
      "  'Module \"zipline.assets\" not found; mutltipliers will not be applied' +\n"
     ]
    }
   ],
   "source": [
    "import pandas as pd\n",
    "import numpy as np\n",
    "import datetime\n",
    "import pyfolio as pf\n",
    "import empyrical as ep\n",
    "import yfinance_edit as yf2\n",
    "from fredapi import Fred\n",
    "fred = Fred(api_key='a0c1c2b914b67d075e3817759cfb393a')\n",
    "import quandl\n",
    "quandl.ApiConfig.api_key = 't9b1KvytziyivrZqLsFi'"
   ]
  },
  {
   "cell_type": "code",
   "execution_count": 2,
   "metadata": {},
   "outputs": [],
   "source": [
    "#Investment Universe\n",
    "#Equities\n",
    "#MSCI Equity Indicies Monthly USD Price (Manual Import)\n",
    "equities_MSCI = pd.read_csv('Equities_MSCI_Monthly_USD.csv', index_col = 0)\n",
    "\n",
    "#Yahoo Finance Stock Exchange Indicies Daily Price\n",
    "world_indices = pd.read_csv('Equities_World_Indices_Daily.csv', index_col = 0)\n",
    "#world_indices = yf2.download(\"^GSPC ^IXIC ^FTSE ^GDAXI ^FCHI ^N225 ^HSI 000001.SS ^AORD ^BSESN ^KS11 ^GSPTSE\",\n",
    "                            #period = 'max', interval = '1d')\n",
    "#world_indices = world_indices['Adj Close']\n",
    "#world_indices.to_csv('Equities_World_Indices_Daily.csv', index=True)\n",
    "\n",
    "#Yahoo Finance iShares Country ETF Daily USD Price\n",
    "equities_country = pd.read_csv('Equities_iShares_Country_ETF_Daily_USD.csv', index_col = 0)\n",
    "#equities_country = yf2.download(\"SPY EWJ EWU EWQ ECH EPU EWZ ARGT EWC EWW ICOL ENZL VNM ERUS EWT GXC EWH EWA EWS PIN EWY EIDO ENOR EWL EDEN EIRL EWK EFNL PGAL EPOL EWO EWP EWI EWN EWG EWD GREK QAT KSA EGPT UAE EZA TUR NGE EIS\",\n",
    "                               #period = 'max', interval = \"1d\")\n",
    "#equities_country = equities_country['Adj Close']\n",
    "#equities_country.to_csv('Equities_iShares_Country_ETF_Daily_USD.csv', index=True)\n",
    "\n",
    "#Dartmouth Fama-French Factor Daily USD Return\n",
    "FF_factor_return = pd.read_csv('Factors_Fama_French_Return_Daily_USD.csv', index_col = 0)\n",
    "#FF_factor_return = ep.utils.get_fama_french()\n",
    "#ep.utils.load_portfolio_risk_factors()\n",
    "#FF_factor_return.index = pd.to_datetime(FF_factor_return.index).date\n",
    "#FF_factor_return.to_csv('Factors_Fama_French_Return_Daily_USD.csv', index=True)\n",
    "\n",
    "#Yahoo Finance US MSCI Factor ETF Daily Price USD\n",
    "US_MSCI_factor = pd.read_csv('Factors_MSCI_US_ETF_Daily_USD.csv', index_col = 0)\n",
    "#US_MSCI_factor = yf2.download(\"MTUM USMV IWF VYM IWD IJR\", period = 'max', interval = '1d')\n",
    "#US_MSCI_factor = US_MSCI_factor['Adj Close']\n",
    "#US_MSCI_factor.to_csv('Factors_MSCI_US_ETF_Daily_USD.csv', index=True)\n",
    "\n",
    "#Yahoo Finance SPDR Sector ETF Daily USD Price\n",
    "sector = pd.read_csv(\"Sector_ETF_Daily_USD.csv\", index_col = 0)\n",
    "#sector = yf2.download(\"XLU XLP XLV XLRE XLC XLY XLK XLB XLI XLF XLE\", period = 'max', interval = '1d')\n",
    "#sector = sector['Adj Close']\n",
    "#sector.to_csv('Sector_ETF_Daily_USD.csv', index=True)\n",
    "\n",
    "#Yahoo Finance Industry ETF Daily USD Price\n",
    "industry = pd.read_csv(\"Industry_ETF_Daily_USD.csv\", index_col = 0)\n",
    "#industry = yf2.download(\"GDX IBB MOO FDN PHO SMH IGV VNQ XRT ITB XME AMLP KRE XOP OIH\", period = 'max', interval = '1d')\n",
    "#industry = industry['Adj Close']\n",
    "#industry.to_csv('Industry_ETF_Daily_USD.csv', index=True)\n",
    "\n",
    "#Fixed Income\n",
    "#Quandl US Treasury Daily USD Yield\n",
    "treasury = pd.read_csv('Bonds_US_Treasury_Yields_Daily_USD.csv', index_col = 0)\n",
    "#treasury = quandl.get([\"FRED/DGS3MO\", \"FRED/DGS1\", \"FRED/DGS2\", \"FRED/DGS5\", \"FRED/DGS10\", \"FRED/DGS30\"])\n",
    "#treasury.to_csv('Bonds_US_Treasury_Yields_Daily_USD.csv', index=True)\n",
    "\n",
    "#US Investment Grade Bond ETF (Barclays Capital US Aggregate Bond Index)\n",
    "bonds_US_IG = pd.read_csv('Bonds_US_IG_ETF_Daily_USD.csv', index_col = 0)\n",
    "#bonds_US_IG = yf2.download(\"AGG\", period = 'max', interval = '1d')\n",
    "#bonds_US_IG = bonds_US_IG['Adj Close']\n",
    "#bonds_US_IG.to_csv('Bonds_US_IG_ETF_Daily_USD.csv', index=True)\n",
    "\n",
    "#Commodities\n",
    "#Koyfin Commodity Futures Daily USD Price (Manual Import)\n",
    "GSCI = pd.read_csv('Commodities_GSCI_Daily_USD.csv', index_col = 0)\n",
    "#GSCI.index = pd.to_datetime(GSCI.index).date\n",
    "#GSCI.to_csv('Commodities_GSCI_Daily_USD.csv', index=True)\n",
    "commodities_energy = pd.read_csv('Commodities_Energy_Daily_USD.csv', index_col = 0)\n",
    "#commodities_energy.index = pd.to_datetime(commodities_energy.index).date\n",
    "#commodities_energy.to_csv('Commodities_Energy_Daily_USD.csv', index=True)\n",
    "commodities_metals = pd.read_csv('Commodities_Metals_Daily_USD.csv', index_col = 0)\n",
    "#commodities_metals.index = pd.to_datetime(commodities_metals.index).date\n",
    "#commodities_metals.to_csv('Commodities_Metals_Daily_USD.csv', index=True)\n",
    "commodities_agriculture = pd.read_csv('Commodities_Agriculture_Daily_USD.csv', index_col = 0)\n",
    "#commodities_agriculture.index = pd.to_datetime(commodities_agriculture.index).date\n",
    "#commodities_agriculture.to_csv('Commodities_Agriculture_Daily_USD.csv', index=True)\n",
    "BDI = pd.read_csv('Commmodities_Baltic_Dry_Daily_USD.csv', index_col = 0)\n",
    "#BDI.index = pd.to_datetime(BDI.index).date\n",
    "#BDI.to_csv('Commmodities_Baltic_Dry_Daily_USD.csv', index=True)\n",
    "\n",
    "#Currency\n",
    "#Koyfin Currency Pairs Daily Price (Manual Import)\n",
    "currency = pd.read_csv(\"Currency_Daily.csv\", index_col = 0)\n",
    "#currency.index = pd.to_datetime(currency.index).date\n",
    "#currency.to_csv('Currency_Daily.csv', index=True)\n",
    "\n",
    "#Yahoo Finance Cryptocurrency Daily USD Price\n",
    "cryptocurrency = pd.read_csv(\"Cryptocurrency_Daily.csv\", index_col = 0)\n",
    "#cryptocurrency = yf2.download(\"BTC-USD ETH-USD XRP-USD\", period = 'max', interval = '1d')\n",
    "#cryptocurrency = cryptocurrency['Adj Close']\n",
    "#cryptocurrency.to_csv('Cryptocurrency_Daily.csv', index=True)\n",
    "\n",
    "#Economic & Market Data\n",
    "#Yahoo Finance VIX Monthly\n",
    "VIX = pd.read_csv('Economic_VIX_Daily.csv', index_col = 0)\n",
    "#VIX = yf2.download(\"^VIX\", period = 'max', interval = '1d')\n",
    "#VIX = VIX['Adj Close']\n",
    "#VIX.to_csv('Economic_VIX_Daily.csv', index=True)"
   ]
  },
  {
   "cell_type": "code",
   "execution_count": null,
   "metadata": {},
   "outputs": [],
   "source": [
    "#Asset Classes\n",
    "#2. Bonds: Developed Markets IG, Developed Markets HY, Emerging Markets IG\n",
    "#5. REIT: Global\n",
    "\n",
    "#Assets\n",
    "#1. Beta diversifiers: bonds, commodities (uncorrelated to equities)\n",
    "#2. Liquid alternatives: market-neutral e.g. style, momentum, value\n",
    "#3. Timing strategies: momentum, volatility\n",
    "#4. Option strategies: managing extreme downside events\n",
    "#5. Illiquid alternatives: private equity, private credit"
   ]
  },
  {
   "cell_type": "code",
   "execution_count": null,
   "metadata": {},
   "outputs": [],
   "source": [
    "#Investible ETFs\n",
    "#S&P 500 ETF (1993) - SPY\n",
    "#CRSP US Total Market Index 4000 ETF (2001) - VTI\n",
    "#NASDAQ ETF (1999) - QQQ\n",
    "#Russell 2000 (2000) - IWM\n",
    "\n",
    "#MSCI EAFE Index (ex-US) ETF (2001) - EFA\n",
    "\n",
    "#Gold ETF (2004) - GLD\n",
    "\n",
    "#Barclays US Aggregate Bond Index ETF (2003) - AGG\n",
    "#bonds_US_IG = yf2.download(\"AGG\", period = 'max', interval = '1d')\n",
    "#bonds_US_IG = bonds_US_IG['Adj Close']\n",
    "#bonds_US_IG.to_csv('US_IG_Bond_USD.csv', index=True)\n",
    "#iBoxx $ Liquid Investment Grade Index (2002) - LQD\n",
    "\n",
    "#FTSE Emerging Markets ETF (2005) - VWO\n",
    "#MSCI Emerging Markets Index (2012) - IEMG\n",
    "\n",
    "#Russell 1000 Growth ETF (2000) - IWF\n",
    "#MSCI US Prime Market Growth Index ETF (2004) - VUG - L/S Growth\n",
    "\n",
    "#MSCI US Prime Market Value Index ETF (2004) - VTV - L/S Value\n",
    "#Russell 1000 Value Index ETF (2000) - IWD\n",
    "\n",
    "#NASDAQ US Dividend Achievers Select Index (2006) - VIG - L/S\n",
    "\n",
    "#iShares Core S&P Small-Cap ETF (2000) - IJR - L/S Small\n",
    "#iShares Core S&P Mid-Cap ETF (2000) - IJH - L/S Mid\n",
    "\n",
    "#MSCI USA Min Volatility ETF (2011) - USMV "
   ]
  },
  {
   "cell_type": "code",
   "execution_count": 35,
   "metadata": {},
   "outputs": [],
   "source": [
    "#TIPs\n",
    "#TIPS5Y = fred.get_series('DFII5')\n",
    "#TIPS10Y = fred.get_series('DFII10')\n",
    "#TIPS30Y = fred.get_series('DFII30')"
   ]
  },
  {
   "cell_type": "code",
   "execution_count": 36,
   "metadata": {},
   "outputs": [],
   "source": [
    "#Swinkel Investor Return Data Government Bonds"
   ]
  },
  {
   "cell_type": "code",
   "execution_count": 37,
   "metadata": {},
   "outputs": [],
   "source": [
    "#Global Government Yields\n",
    "#jgb = quandl.get([\"MOFJ/INTEREST_RATE_JAPAN\"])\n",
    "#ECB = quandl.get([\"ECB/   \"])\n",
    "#RBA Exchange Rates for AUD aand governemnt bond"
   ]
  },
  {
   "cell_type": "code",
   "execution_count": 38,
   "metadata": {},
   "outputs": [],
   "source": [
    "#Corporate Credit\n",
    "#US_corp_yield = quandl.get([\"ML/ \"])\n",
    "#US_corp_total_return\n",
    "#ICE BofA Bond Market Indicies"
   ]
  },
  {
   "cell_type": "code",
   "execution_count": 40,
   "metadata": {},
   "outputs": [],
   "source": [
    "#Real Restate"
   ]
  },
  {
   "cell_type": "code",
   "execution_count": null,
   "metadata": {},
   "outputs": [],
   "source": [
    "#CAPE\n",
    "#S&P500_CAPE = quandl.get([\"MULTPL/SHILLER_PE_RATIO_MONTH\"])"
   ]
  },
  {
   "cell_type": "code",
   "execution_count": null,
   "metadata": {},
   "outputs": [],
   "source": [
    "#ABS Statistics\n",
    "#quandl.get([\"AUSBS/    \"])"
   ]
  },
  {
   "cell_type": "code",
   "execution_count": null,
   "metadata": {},
   "outputs": [],
   "source": [
    "#Yale Department of Economics\n",
    "#quandl.get([\"YALE/    \"])"
   ]
  },
  {
   "cell_type": "code",
   "execution_count": null,
   "metadata": {},
   "outputs": [],
   "source": [
    "#World Bank"
   ]
  },
  {
   "cell_type": "code",
   "execution_count": null,
   "metadata": {},
   "outputs": [],
   "source": [
    "#Bitcoin Mining Statistics\n",
    "#BITCOINWATCH/MINING"
   ]
  }
 ],
 "metadata": {
  "kernelspec": {
   "display_name": "Python 3",
   "language": "python",
   "name": "python3"
  },
  "language_info": {
   "codemirror_mode": {
    "name": "ipython",
    "version": 3
   },
   "file_extension": ".py",
   "mimetype": "text/x-python",
   "name": "python",
   "nbconvert_exporter": "python",
   "pygments_lexer": "ipython3",
   "version": "3.7.3"
  }
 },
 "nbformat": 4,
 "nbformat_minor": 2
}
